{
 "cells": [
  {
   "cell_type": "code",
   "execution_count": 1,
   "metadata": {},
   "outputs": [],
   "source": [
    "import cv2\n",
    "import glob\n",
    "\n",
    "clip_limit = 1"
   ]
  },
  {
   "cell_type": "code",
   "execution_count": 2,
   "metadata": {},
   "outputs": [],
   "source": [
    "input_folder = \"dataset-norm/TRAINING/NORMAL\"\n",
    "len_folder = len(input_folder)\n",
    "for img in glob.glob(input_folder + \"/*.jpeg\"):\n",
    "    image = cv2.imread(img)\n",
    "    lab_image = cv2.cvtColor(image, cv2.COLOR_BGR2LAB)\n",
    "    l, a, b = cv2.split(lab_image)\n",
    "    clahe = cv2.createCLAHE(clipLimit=clip_limit, tileGridSize=(8,8))\n",
    "    l_clahe = clahe.apply(l)\n",
    "    new_lab_image = cv2.merge((l_clahe,a,b))\n",
    "    clahe_image = cv2.cvtColor(new_lab_image, cv2.COLOR_LAB2BGR)\n",
    "    \n",
    "    cv2.imwrite(\"dataset-clahe/TRAINING/NORMAL\"+img[len_folder:],clahe_image)"
   ]
  },
  {
   "cell_type": "code",
   "execution_count": 3,
   "metadata": {},
   "outputs": [],
   "source": [
    "input_folder = \"dataset-norm/TRAINING/PNEUMONIA\"\n",
    "len_folder = len(input_folder)\n",
    "for img in glob.glob(input_folder + \"/*.jpeg\"):\n",
    "    image = cv2.imread(img)\n",
    "    lab_image = cv2.cvtColor(image, cv2.COLOR_BGR2LAB)\n",
    "    l, a, b = cv2.split(lab_image)\n",
    "    clahe = cv2.createCLAHE(clipLimit=clip_limit, tileGridSize=(8,8))\n",
    "    l_clahe = clahe.apply(l)\n",
    "    new_lab_image = cv2.merge((l_clahe,a,b))\n",
    "    clahe_image = cv2.cvtColor(new_lab_image, cv2.COLOR_LAB2BGR)\n",
    "    \n",
    "    cv2.imwrite(\"dataset-clahe/TRAINING/PNEUMONIA\"+img[len_folder:],clahe_image)"
   ]
  },
  {
   "cell_type": "code",
   "execution_count": 4,
   "metadata": {},
   "outputs": [],
   "source": [
    "input_folder = \"dataset-norm/VALIDATION/NORMAL\"\n",
    "len_folder = len(input_folder)\n",
    "for img in glob.glob(input_folder + \"/*.jpeg\"):\n",
    "    image = cv2.imread(img)\n",
    "    lab_image = cv2.cvtColor(image, cv2.COLOR_BGR2LAB)\n",
    "    l, a, b = cv2.split(lab_image)\n",
    "    clahe = cv2.createCLAHE(clipLimit=clip_limit, tileGridSize=(8,8))\n",
    "    l_clahe = clahe.apply(l)\n",
    "    new_lab_image = cv2.merge((l_clahe,a,b))\n",
    "    clahe_image = cv2.cvtColor(new_lab_image, cv2.COLOR_LAB2BGR)\n",
    "    \n",
    "    cv2.imwrite(\"dataset-clahe/VALIDATION/NORMAL\"+img[len_folder:],clahe_image)"
   ]
  },
  {
   "cell_type": "code",
   "execution_count": 5,
   "metadata": {},
   "outputs": [],
   "source": [
    "input_folder = \"dataset-norm/VALIDATION/PNEUMONIA\"\n",
    "len_folder = len(input_folder)\n",
    "for img in glob.glob(input_folder + \"/*.jpeg\"):\n",
    "    image = cv2.imread(img)\n",
    "    lab_image = cv2.cvtColor(image, cv2.COLOR_BGR2LAB)\n",
    "    l, a, b = cv2.split(lab_image)\n",
    "    clahe = cv2.createCLAHE(clipLimit=clip_limit, tileGridSize=(8,8))\n",
    "    l_clahe = clahe.apply(l)\n",
    "    new_lab_image = cv2.merge((l_clahe,a,b))\n",
    "    clahe_image = cv2.cvtColor(new_lab_image, cv2.COLOR_LAB2BGR)\n",
    "    \n",
    "    cv2.imwrite(\"dataset-clahe/VALIDATION/PNEUMONIA\"+img[len_folder:],clahe_image)"
   ]
  },
  {
   "cell_type": "code",
   "execution_count": 6,
   "metadata": {},
   "outputs": [],
   "source": [
    "input_folder = \"dataset-norm/TESTING/NORMAL\"\n",
    "len_folder = len(input_folder)\n",
    "for img in glob.glob(input_folder + \"/*.jpeg\"):\n",
    "    image = cv2.imread(img)\n",
    "    lab_image = cv2.cvtColor(image, cv2.COLOR_BGR2LAB)\n",
    "    l, a, b = cv2.split(lab_image)\n",
    "    clahe = cv2.createCLAHE(clipLimit=clip_limit, tileGridSize=(8,8))\n",
    "    l_clahe = clahe.apply(l)\n",
    "    new_lab_image = cv2.merge((l_clahe,a,b))\n",
    "    clahe_image = cv2.cvtColor(new_lab_image, cv2.COLOR_LAB2BGR)\n",
    "    \n",
    "    cv2.imwrite(\"dataset-clahe/TESTING/NORMAL\"+img[len_folder:],clahe_image)"
   ]
  },
  {
   "cell_type": "code",
   "execution_count": 7,
   "metadata": {},
   "outputs": [],
   "source": [
    "input_folder = \"dataset-norm/TESTING/PNEUMONIA\"\n",
    "len_folder = len(input_folder)\n",
    "for img in glob.glob(input_folder + \"/*.jpeg\"):\n",
    "    image = cv2.imread(img)\n",
    "    lab_image = cv2.cvtColor(image, cv2.COLOR_BGR2LAB)\n",
    "    l, a, b = cv2.split(lab_image)\n",
    "    clahe = cv2.createCLAHE(clipLimit=clip_limit, tileGridSize=(8,8))\n",
    "    l_clahe = clahe.apply(l)\n",
    "    new_lab_image = cv2.merge((l_clahe,a,b))\n",
    "    clahe_image = cv2.cvtColor(new_lab_image, cv2.COLOR_LAB2BGR)\n",
    "    \n",
    "    cv2.imwrite(\"dataset-clahe/TESTING/PNEUMONIA\"+img[len_folder:],clahe_image)"
   ]
  },
  {
   "cell_type": "code",
   "execution_count": null,
   "metadata": {},
   "outputs": [],
   "source": []
  }
 ],
 "metadata": {
  "kernelspec": {
   "display_name": "Python 3",
   "language": "python",
   "name": "python3"
  },
  "language_info": {
   "codemirror_mode": {
    "name": "ipython",
    "version": 3
   },
   "file_extension": ".py",
   "mimetype": "text/x-python",
   "name": "python",
   "nbconvert_exporter": "python",
   "pygments_lexer": "ipython3",
   "version": "3.8.8"
  }
 },
 "nbformat": 4,
 "nbformat_minor": 4
}
