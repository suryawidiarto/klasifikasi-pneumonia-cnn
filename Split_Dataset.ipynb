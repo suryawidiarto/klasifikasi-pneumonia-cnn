{
 "cells": [
  {
   "cell_type": "code",
   "execution_count": 1,
   "id": "c6e43eb3",
   "metadata": {},
   "outputs": [],
   "source": [
    "import glob\n",
    "import random\n",
    "import shutil"
   ]
  },
  {
   "cell_type": "code",
   "execution_count": 2,
   "id": "7292c681",
   "metadata": {},
   "outputs": [],
   "source": [
    "inputFolder = \"dataset/PNEUMONIA\"\n",
    "outputFolder = \"dataset-norm/TRAINING/PNEUMONIA\"\n",
    "folderLen = len(inputFolder)\n",
    "\n",
    "for i in range(3419):\n",
    "    img = glob.glob(inputFolder + \"/*.jpeg\")\n",
    "    random_img = random.choice(img)\n",
    "    shutil.move(random_img, outputFolder+random_img[folderLen:])"
   ]
  },
  {
   "cell_type": "code",
   "execution_count": 3,
   "id": "8707a36f",
   "metadata": {},
   "outputs": [],
   "source": [
    "inputFolder = \"dataset/PNEUMONIA\"\n",
    "outputFolder = \"dataset-norm/VALIDATION/PNEUMONIA\"\n",
    "folderLen = len(inputFolder)\n",
    "\n",
    "for i in range(427):\n",
    "    img = glob.glob(inputFolder + \"/*.jpeg\")\n",
    "    random_img = random.choice(img)\n",
    "    shutil.move(random_img, outputFolder+random_img[folderLen:])"
   ]
  },
  {
   "cell_type": "code",
   "execution_count": 4,
   "id": "0b7126d6",
   "metadata": {},
   "outputs": [],
   "source": [
    "inputFolder = \"dataset/PNEUMONIA\"\n",
    "outputFolder = \"dataset-norm/TESTING/PNEUMONIA\"\n",
    "folderLen = len(inputFolder)\n",
    "\n",
    "for i in range(427):\n",
    "    img = glob.glob(inputFolder + \"/*.jpeg\")\n",
    "    random_img = random.choice(img)\n",
    "    shutil.move(random_img, outputFolder+random_img[folderLen:])"
   ]
  },
  {
   "cell_type": "code",
   "execution_count": 5,
   "id": "f71bcc82",
   "metadata": {},
   "outputs": [],
   "source": [
    "inputFolder = \"dataset/NORMAL\"\n",
    "outputFolder = \"dataset-norm/TRAINING/NORMAL\"\n",
    "folderLen = len(inputFolder)\n",
    "\n",
    "for i in range(1267):\n",
    "    img = glob.glob(inputFolder + \"/*.jpeg\")\n",
    "    random_img = random.choice(img)\n",
    "    shutil.move(random_img, outputFolder+random_img[folderLen:])"
   ]
  },
  {
   "cell_type": "code",
   "execution_count": null,
   "id": "9d864107",
   "metadata": {},
   "outputs": [],
   "source": [
    "inputFolder = \"dataset/NORMAL\"\n",
    "outputFolder = \"dataset-norm/VALIDATION/NORMAL\"\n",
    "folderLen = len(inputFolder)\n",
    "\n",
    "for i in range(158):\n",
    "    img = glob.glob(inputFolder + \"/*.jpeg\")\n",
    "    random_img = random.choice(img)\n",
    "    shutil.move(random_img, outputFolder+random_img[folderLen:])"
   ]
  },
  {
   "cell_type": "code",
   "execution_count": null,
   "id": "893b9ad8",
   "metadata": {},
   "outputs": [],
   "source": [
    "inputFolder = \"dataset/NORMAL\"\n",
    "outputFolder = \"dataset-norm/TESTING/NORMAL\"\n",
    "folderLen = len(inputFolder)\n",
    "\n",
    "for i in range(158):\n",
    "    img = glob.glob(inputFolder + \"/*.jpeg\")\n",
    "    random_img = random.choice(img)\n",
    "    shutil.move(random_img, outputFolder+random_img[folderLen:])"
   ]
  }
 ],
 "metadata": {
  "kernelspec": {
   "display_name": "Python 3",
   "language": "python",
   "name": "python3"
  },
  "language_info": {
   "codemirror_mode": {
    "name": "ipython",
    "version": 3
   },
   "file_extension": ".py",
   "mimetype": "text/x-python",
   "name": "python",
   "nbconvert_exporter": "python",
   "pygments_lexer": "ipython3",
   "version": "3.8.8"
  }
 },
 "nbformat": 4,
 "nbformat_minor": 5
}
