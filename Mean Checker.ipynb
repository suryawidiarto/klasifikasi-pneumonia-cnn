{
 "cells": [
  {
   "cell_type": "code",
   "execution_count": 1,
   "metadata": {},
   "outputs": [],
   "source": [
    "import pandas as pd"
   ]
  },
  {
   "cell_type": "code",
   "execution_count": 2,
   "metadata": {},
   "outputs": [
    {
     "data": {
      "text/html": [
       "<div>\n",
       "<style scoped>\n",
       "    .dataframe tbody tr th:only-of-type {\n",
       "        vertical-align: middle;\n",
       "    }\n",
       "\n",
       "    .dataframe tbody tr th {\n",
       "        vertical-align: top;\n",
       "    }\n",
       "\n",
       "    .dataframe thead th {\n",
       "        text-align: right;\n",
       "    }\n",
       "</style>\n",
       "<table border=\"1\" class=\"dataframe\">\n",
       "  <thead>\n",
       "    <tr style=\"text-align: right;\">\n",
       "      <th></th>\n",
       "      <th>Ukuran</th>\n",
       "      <th>Train Acc</th>\n",
       "      <th>Train Loss</th>\n",
       "      <th>Val Acc</th>\n",
       "      <th>Val Loss</th>\n",
       "      <th>Test Acc</th>\n",
       "    </tr>\n",
       "  </thead>\n",
       "  <tbody>\n",
       "    <tr>\n",
       "      <th>0</th>\n",
       "      <td>64x64</td>\n",
       "      <td>0.893750</td>\n",
       "      <td>0.276500</td>\n",
       "      <td>0.871875</td>\n",
       "      <td>0.272593</td>\n",
       "      <td>0.892821</td>\n",
       "    </tr>\n",
       "    <tr>\n",
       "      <th>1</th>\n",
       "      <td>128x128</td>\n",
       "      <td>0.918750</td>\n",
       "      <td>0.208587</td>\n",
       "      <td>0.878125</td>\n",
       "      <td>0.251880</td>\n",
       "      <td>0.889231</td>\n",
       "    </tr>\n",
       "    <tr>\n",
       "      <th>2</th>\n",
       "      <td>256x256</td>\n",
       "      <td>0.903125</td>\n",
       "      <td>0.251358</td>\n",
       "      <td>0.825000</td>\n",
       "      <td>0.419178</td>\n",
       "      <td>0.842222</td>\n",
       "    </tr>\n",
       "  </tbody>\n",
       "</table>\n",
       "</div>"
      ],
      "text/plain": [
       "    Ukuran  Train Acc  Train Loss   Val Acc  Val Loss  Test Acc\n",
       "0    64x64   0.893750    0.276500  0.871875  0.272593  0.892821\n",
       "1  128x128   0.918750    0.208587  0.878125  0.251880  0.889231\n",
       "2  256x256   0.903125    0.251358  0.825000  0.419178  0.842222"
      ]
     },
     "execution_count": 2,
     "metadata": {},
     "output_type": "execute_result"
    }
   ],
   "source": [
    "n_data = pd.DataFrame(columns = ['accuracy','loss','val_accuracy','val_loss','Akurasi'])\n",
    "\n",
    "n_data64 = (pd.read_csv('normal/64x64/training_history_pred_conf.csv', sep=','))[['accuracy','loss','val_accuracy','val_loss','Akurasi']]\n",
    "n_data128 = (pd.read_csv('normal/128x128/training_history_pred_conf.csv', sep=','))[['accuracy','loss','val_accuracy','val_loss','Akurasi']]\n",
    "n_data256 = (pd.read_csv('normal/256x256/training_history_pred_conf.csv', sep=','))[['accuracy','loss','val_accuracy','val_loss','Akurasi']]\n",
    "\n",
    "n_data_train_val_test = [n_data64.mean(axis=0), n_data128.mean(axis=0), n_data256.mean(axis=0)]\n",
    "n_data = n_data.append(n_data_train_val_test, ignore_index = True)\n",
    "n_data = n_data.rename(columns={'accuracy':'Train Acc', 'loss':'Train Loss', 'val_accuracy':'Val Acc', 'val_loss':'Val Loss', 'Akurasi':'Test Acc'})\n",
    "n_data.insert(loc=0,column='Ukuran', value=[\"64x64\",\"128x128\",\"256x256\"])\n",
    "\n",
    "n_data.to_csv('rata_rata_normal_train_val_test.csv', index=False)\n",
    "\n",
    "data = pd.read_csv('rata_rata_normal_train_val_test.csv', sep=',')\n",
    "data"
   ]
  },
  {
   "cell_type": "code",
   "execution_count": 3,
   "metadata": {},
   "outputs": [
    {
     "data": {
      "text/html": [
       "<div>\n",
       "<style scoped>\n",
       "    .dataframe tbody tr th:only-of-type {\n",
       "        vertical-align: middle;\n",
       "    }\n",
       "\n",
       "    .dataframe tbody tr th {\n",
       "        vertical-align: top;\n",
       "    }\n",
       "\n",
       "    .dataframe thead th {\n",
       "        text-align: right;\n",
       "    }\n",
       "</style>\n",
       "<table border=\"1\" class=\"dataframe\">\n",
       "  <thead>\n",
       "    <tr style=\"text-align: right;\">\n",
       "      <th></th>\n",
       "      <th>Ukuran</th>\n",
       "      <th>Train Acc</th>\n",
       "      <th>Train Loss</th>\n",
       "      <th>Val Acc</th>\n",
       "      <th>Val Loss</th>\n",
       "      <th>Test Acc</th>\n",
       "    </tr>\n",
       "  </thead>\n",
       "  <tbody>\n",
       "    <tr>\n",
       "      <th>0</th>\n",
       "      <td>64x64</td>\n",
       "      <td>0.893750</td>\n",
       "      <td>0.240632</td>\n",
       "      <td>0.903125</td>\n",
       "      <td>0.257317</td>\n",
       "      <td>0.898803</td>\n",
       "    </tr>\n",
       "    <tr>\n",
       "      <th>1</th>\n",
       "      <td>128x128</td>\n",
       "      <td>0.943750</td>\n",
       "      <td>0.150807</td>\n",
       "      <td>0.903125</td>\n",
       "      <td>0.216530</td>\n",
       "      <td>0.912991</td>\n",
       "    </tr>\n",
       "    <tr>\n",
       "      <th>2</th>\n",
       "      <td>256x256</td>\n",
       "      <td>0.915625</td>\n",
       "      <td>0.228744</td>\n",
       "      <td>0.912500</td>\n",
       "      <td>0.219259</td>\n",
       "      <td>0.915556</td>\n",
       "    </tr>\n",
       "  </tbody>\n",
       "</table>\n",
       "</div>"
      ],
      "text/plain": [
       "    Ukuran  Train Acc  Train Loss   Val Acc  Val Loss  Test Acc\n",
       "0    64x64   0.893750    0.240632  0.903125  0.257317  0.898803\n",
       "1  128x128   0.943750    0.150807  0.903125  0.216530  0.912991\n",
       "2  256x256   0.915625    0.228744  0.912500  0.219259  0.915556"
      ]
     },
     "execution_count": 3,
     "metadata": {},
     "output_type": "execute_result"
    }
   ],
   "source": [
    "c_data = pd.DataFrame(columns = ['accuracy','loss','val_accuracy','val_loss','Akurasi'])\n",
    "\n",
    "c_data64 = (pd.read_csv('clahe/64x64/training_history_pred_conf.csv', sep=','))[['accuracy','loss','val_accuracy','val_loss','Akurasi']]\n",
    "c_data128 = (pd.read_csv('clahe/128x128/training_history_pred_conf.csv', sep=','))[['accuracy','loss','val_accuracy','val_loss','Akurasi']]\n",
    "c_data256 = (pd.read_csv('clahe/256x256/training_history_pred_conf.csv', sep=','))[['accuracy','loss','val_accuracy','val_loss','Akurasi']]\n",
    "\n",
    "c_data_train_val_test = [c_data64.mean(axis=0), c_data128.mean(axis=0), c_data256.mean(axis=0)]\n",
    "c_data = c_data.append(c_data_train_val_test, ignore_index = True)\n",
    "c_data = c_data.rename(columns={'accuracy':'Train Acc', 'loss':'Train Loss', 'val_accuracy':'Val Acc', 'val_loss':'Val Loss', 'Akurasi':'Test Acc'})\n",
    "c_data.insert(loc=0,column='Ukuran', value=[\"64x64\",\"128x128\",\"256x256\"])\n",
    "\n",
    "c_data.to_csv('rata_rata_clahe_train_val_test.csv', index=False)\n",
    "\n",
    "data = pd.read_csv('rata_rata_clahe_train_val_test.csv', sep=',')\n",
    "data"
   ]
  },
  {
   "cell_type": "code",
   "execution_count": null,
   "metadata": {},
   "outputs": [],
   "source": []
  }
 ],
 "metadata": {
  "kernelspec": {
   "display_name": "Python 3",
   "language": "python",
   "name": "python3"
  },
  "language_info": {
   "codemirror_mode": {
    "name": "ipython",
    "version": 3
   },
   "file_extension": ".py",
   "mimetype": "text/x-python",
   "name": "python",
   "nbconvert_exporter": "python",
   "pygments_lexer": "ipython3",
   "version": "3.8.8"
  }
 },
 "nbformat": 4,
 "nbformat_minor": 4
}
